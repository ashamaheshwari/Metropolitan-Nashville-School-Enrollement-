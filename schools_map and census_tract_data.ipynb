{
 "cells": [
  {
   "cell_type": "code",
   "execution_count": 1,
   "id": "22fa84b9",
   "metadata": {},
   "outputs": [],
   "source": [
    "import requests\n",
    "import pandas as pd\n",
    "import geopandas as gpd\n",
    "import json"
   ]
  },
  {
   "cell_type": "markdown",
   "id": "7b26acab",
   "metadata": {},
   "source": [
    "### Part 1\n",
    "Scraping School map data from MNPS site (https://mnps.maps.arcgis.com/home/item.html?id=a25c1ef058a247cfa2636a396f3aaedd#data). Table has information for geographic location (latitude and longitude) for each MNPS school. This information will be used for map generation. "
   ]
  },
  {
   "cell_type": "code",
   "execution_count": null,
   "id": "4c811d66",
   "metadata": {},
   "outputs": [],
   "source": [
    "URL = 'https://services.arcgis.com/GBzOxI4K7WHYqcYy/arcgis/rest/services/Schools_Map/FeatureServer/0/query?f=json&where=1%3D1&returnGeometry=false&spatialRel=esriSpatialRelIntersects&outFields=*&orderByFields=OBJECTID%20ASC&resultOffset=0&resultRecordCount=1000&cacheHint=true&quantizationParameters=%7B%22mode%22%3A%22edit%22%7D'"
   ]
  },
  {
   "cell_type": "code",
   "execution_count": null,
   "id": "9043e1d8",
   "metadata": {},
   "outputs": [],
   "source": [
    "response = requests.get(URL)"
   ]
  },
  {
   "cell_type": "code",
   "execution_count": null,
   "id": "f4f17236",
   "metadata": {},
   "outputs": [],
   "source": [
    "school_map_data = pd.DataFrame([x['attributes'] for x in response.json()['features']])"
   ]
  },
  {
   "cell_type": "code",
   "execution_count": null,
   "id": "b589b9e6",
   "metadata": {},
   "outputs": [],
   "source": [
    "#school_map_data = pd.read_csv('Data/School_map_data.csv')\n",
    "#school_map_data"
   ]
  },
  {
   "cell_type": "code",
   "execution_count": null,
   "id": "e2519a34",
   "metadata": {},
   "outputs": [],
   "source": [
    "school_map_data.info()"
   ]
  },
  {
   "cell_type": "code",
   "execution_count": null,
   "id": "edb405d7",
   "metadata": {},
   "outputs": [],
   "source": [
    "school_map_data = school_map_data.drop(columns = {'OBJECTID', 'SHORT_NAME', 'GR_TIER', 'NOTES', 'SCHBRD_MBR', 'OPTIONSCH_CURR', 'OPTIONSCH_NEXT', 'OPTID_CURR', 'OPTID_NEXT', 'TN_HOUSE', 'TN_SENATE'})\n",
    "school_map_data = school_map_data.rename(columns = {'CLUS_NAME':'CLUSTER_NAME','LONG_':'LONGITUDE', 'LAT_':'LATITUDE'})\n",
    "school_map_data.info()"
   ]
  },
  {
   "cell_type": "code",
   "execution_count": null,
   "id": "1c6b96b7",
   "metadata": {},
   "outputs": [],
   "source": [
    "school_map_data[\"SCHOOL_NAME\"].unique()"
   ]
  },
  {
   "cell_type": "code",
   "execution_count": null,
   "id": "92b048f0",
   "metadata": {},
   "outputs": [],
   "source": [
    "school_map_data['ADDRESS'] = school_map_data.SHORT_ADDR.str.cat(school_map_data.CITY, sep=', ')\n",
    "school_map_data['ADDRESS'] = school_map_data['ADDRESS'].astype(str) + ', TN-'\n",
    "school_map_data['ADDRESS'] = school_map_data.ADDRESS.str.cat(school_map_data.ZIP, sep='')\n",
    "school_map_data"
   ]
  },
  {
   "cell_type": "code",
   "execution_count": null,
   "id": "cad64c08",
   "metadata": {},
   "outputs": [],
   "source": [
    "enrollment = pd.read_csv('Data/enrollment.csv')\n",
    "enrollment"
   ]
  },
  {
   "cell_type": "code",
   "execution_count": null,
   "id": "3168892a",
   "metadata": {},
   "outputs": [],
   "source": [
    "enrollment = enrollment.rename(columns = {'school': 'SCHOOL_NAME', 'sl':'SCHOOL_TYPE', 'enrollment' : 'TOTAL_ENROLLMENT', 'years' : 'YEARS'})\n",
    "enrollment"
   ]
  },
  {
   "cell_type": "code",
   "execution_count": null,
   "id": "bf8832f2",
   "metadata": {},
   "outputs": [],
   "source": [
    "enrollment[\"SCHOOL_NAME\"].unique()"
   ]
  },
  {
   "cell_type": "code",
   "execution_count": null,
   "id": "60e35d05",
   "metadata": {},
   "outputs": [],
   "source": [
    "enrollment['SCHOOL_NAME'] = enrollment['SCHOOL_NAME'].replace({'Antioch High School': 'Antioch High' ,\n",
    "                                   'Whites Creek High School': 'Whites Creek High', \n",
    "                                   'Bordeaux Enhanced Option School' : 'Bordeaux Enhanced Option',\n",
    "                                   'Brick Church Middle School' : 'Brick Church Middle',\n",
    "                                   'Brookmeade Elementary School' : 'Brookmeade Elementary',\n",
    "                                   'Cameron Middle School' : 'Cameron Middle',\n",
    "                                    'Cora Howe School' : 'Cora Howe', \n",
    "                                    'Dalewood Middle School' : 'Dalewood Middle', \n",
    "                                    'Early College High School' : 'Early College High', \n",
    "                                    'East Nashville School' : 'East Nashville', \n",
    "                                    'Ewing Park Middle School' : 'Ewing Park Middle', \n",
    "                                    'Glencliff High School' : 'Glencliff High',\n",
    "                                    'H.G. Hill Middle School' : 'H.G. Hill Middle', \n",
    "                                    'Martha Vaught Middle School': 'Martha Vaught Middle', \n",
    "                                   'Martin Luther King Jr School': 'Martin Luther King Jr',\n",
    "                                   'May Werthan Shayne Elementary School' : 'May Werthan Shayne Elementary',\n",
    "                                     'Ross Elementary School' : 'Ross Elementary', \n",
    "                                    'Stratford STEM Magnet School': 'Stratford STEM Magnet', \n",
    "                                    'W.A. Bass Middle School' : 'W.A. Bass Middle', \n",
    "                                     'Cane Ridge High School' :  'Cane Ridge High', \n",
    "                                    'Murrell School' :  'Murrell', \n",
    "                                    'Nashville Diploma Plus High School' : 'Nashville Diploma Plus High', \n",
    "                                    'Smithson Craighead Middle School' : 'Smithson Craighead Middle', \n",
    "                                    'Transition School' : 'Transition', \n",
    "                                    'East End Preparatory School' : 'East End Preparatory',\n",
    "                                   'Metro Nashville Virtual School' : 'Metro Nashville Virtual',\n",
    "                                    'Robertson Academy Gifted School' : 'Robertson Academy Gifted',\n",
    "                                    'The Cohn School' : 'The Cohn',\n",
    "                                    'KIPP Nashville Collegiate High School': 'KIPP Nashville Collegiate High',\n",
    "                                    'Explore Community School' : 'Explore Community',\n",
    "                                    'Knowledge Academies High School' : 'Knowledge Academies High',\n",
    "                                    'STEM Prep High School' : 'STEM Prep High', \n",
    "                                    'RePublic High School' : 'RePublic High', \n",
    "                                    'Smith Springs Elementary School' : 'Smith Springs Elementary',                            \n",
    "                                    'Aventura Community School' : 'Aventura Community',\n",
    "                                    'Nashville Big Picture High School' : 'Nashville Big Picture High',\n",
    "                                    'Waverly-Belmont Elementary School' : 'Waverly-Belmont Elementary',\n",
    "                                    'Johnson School' : 'Johnson'                     })"
   ]
  },
  {
   "cell_type": "code",
   "execution_count": null,
   "id": "79a3de08",
   "metadata": {},
   "outputs": [],
   "source": [
    "enrollment[\"SCHOOL_NAME\"].unique()"
   ]
  },
  {
   "cell_type": "code",
   "execution_count": null,
   "id": "44b25376",
   "metadata": {},
   "outputs": [],
   "source": [
    "enrollment['SCHOOL_NAME'] = enrollment['SCHOOL_NAME'].astype(str) + ' School'\n",
    "enrollment"
   ]
  },
  {
   "cell_type": "code",
   "execution_count": null,
   "id": "aca32936",
   "metadata": {},
   "outputs": [],
   "source": [
    "enrollment[\"SCHOOL_NAME\"].unique()"
   ]
  },
  {
   "cell_type": "code",
   "execution_count": null,
   "id": "09a8856a",
   "metadata": {},
   "outputs": [],
   "source": [
    "enrollment['SCHOOL_NAME'] = enrollment['SCHOOL_NAME'].replace({\n",
    " 'Liberty Collegiate Academy School' :  'Liberty Collegiate Academy',   \n",
    "'Ross Early Learning Center School': 'Ross Early Learning Center',\n",
    "'Nashville Classical School': 'Nashville Classical',\n",
    "'Purpose Prep School': 'Purpose Prep', \n",
    "'Rocketship Nashville Northeast Elementary School':'Rocketship Nashville Northeast Elementary',\n",
    "'Ivanetta H. Davis Early Learning Center at Bordeaux School': 'Ivanetta H. Davis Early Learning Center at Bordeaux',\n",
    "'Stratford STEM Magnet School - Upper/Lower Campus School': 'Stratford STEM Magnet School - Upper/Lower Campus',\n",
    "'Smithson Craighead Academy School':'Smithson Craighead Academy',\n",
    "'LEAD Prep Southeast School': 'LEAD Prep Southeast',\n",
    "'Strive Collegiate Academy School':'Strive Collegiate Academy',\n",
    "'The Academy at Opry Mills School':'The Academy at Opry Mills',\n",
    "'Rocketship United Academy School':'Rocketship United Academy',\n",
    "'Harris-Hillman Special Education School':'Harris-Hillman Special Education',\n",
    "'Johnson Alternative Learning Center School':'Johnson Alternative Learning Center',\n",
    "'Nashville School of the Arts School':'Nashville School of the Arts',\n",
    "'Cameron College Preparatory School':'Cameron College Preparatory',\n",
    "'Casa Azafran Early Learning Center School' :'Casa Azafran Early Learning Center', \n",
    "'STEM Prep Academy School' :'STEM Prep Academy',\n",
    "'LEAD Academy High School':'LEAD Academy High',\n",
    "'The Academy at Old Cockrill School' :'The Academy at Old Cockrill',\n",
    "'W. A. Bass Learning Center - Adult School' : 'W. A. Bass Learning Center - Adult',\n",
    "'W. A. Bass Learning Center - Transitions School':'W. A. Bass Learning Center - Transitions',\n",
    "'Nashville Prep School' : 'Nashville Prep', \n",
    "'Tusculum Elementary School' :'Tusculum Elementary', \n",
    "'Valor Flagship Academy School' :'Valor Flagship Academy',\n",
    "'Valor Voyager Academy School' :'Valor Voyager Academy',\n",
    "'John Trotwood Moore Middle School': 'John Trotwood Moore Middle',\n",
    "'Robertson Academy School':  'Robertson Academy', \n",
    "'KIPP Academy Nashville School':'KIPP Academy Nashville',\n",
    "'Martin Professional Center School' : 'Martin Professional Center',\n",
    "'Board of Education School' :'Board of Education',\n",
    "'The Academy at Hickory Hollow School' : 'The Academy at Hickory Hollow',\n",
    "'Cambridge Early Learning Center School': 'Cambridge Early Learning Center',\n",
    "'KA @ The Crossings School' :'KA @ The Crossings', \n",
    "'KIPP Nashville College Prep School' : 'KIPP Nashville College Prep',\n",
    "'KIPP Nashville College Prep Elementary School':'KIPP Nashville College Prep Elementary',\n",
    "'W. A. Bass Learning Center - ALC School' : 'W. A. Bass Learning Center - ALC',\n",
    "'Carlisle Beasley, Jr Building (Transportation) School' : 'Carlisle Beasley, Jr Building (Transportation)',\n",
    "'MNPS Supply Center School' : 'MNPS Supply Center',\n",
    "'MNPS Spencer Lane Warehouse School' : 'MNPS Spencer Lane Warehouse',\n",
    "'McGruder Family Resource Center School':'McGruder Family Resource Center', \n",
    "'MNPS Maint/Supply - GENESCO School' : 'MNPS Maint/Supply - GENESCO',\n",
    "'Nashville Collegiate Prep School' : 'Nashville Collegiate Prep' \n",
    "})"
   ]
  },
  {
   "cell_type": "code",
   "execution_count": null,
   "id": "6c06ad17",
   "metadata": {},
   "outputs": [],
   "source": [
    "school_enrollment = pd.merge(left = school_map_data, \n",
    "         right = enrollment, \n",
    "         on = 'SCHOOL_NAME',\n",
    "        how = 'inner'            \n",
    "        )"
   ]
  },
  {
   "cell_type": "code",
   "execution_count": null,
   "id": "56fc9385",
   "metadata": {},
   "outputs": [],
   "source": [
    "school_enrollment"
   ]
  },
  {
   "cell_type": "code",
   "execution_count": null,
   "id": "6e9b1032",
   "metadata": {},
   "outputs": [],
   "source": [
    "school_enrollment[\"SCHOOL_NAME\"]. nunique()"
   ]
  },
  {
   "cell_type": "code",
   "execution_count": null,
   "id": "491eac68",
   "metadata": {},
   "outputs": [],
   "source": [
    "school_enrollment['YEARS'] = school_enrollment['YEARS'].replace({'07-08': '2007-2008',\n",
    "                                    '08-09': '2008-2009',\n",
    "                                    '09-10': '2009-2010',\n",
    "                                    '10-11': '2010-2011',\n",
    "                                    '11-12': '2011-2012',\n",
    "                                    '12-13': '2012-2013', \n",
    "                                    '13-14': '2013-2014',\n",
    "                                    '14-15': '2014-2015',\n",
    "                                    '15-16': '2015-2016',\n",
    "                                    '16-17': '2016-2017', \n",
    "                                    '17-18': '2017-2018',\n",
    "                                    '18-19': '2018-2019',\n",
    "                                    '19-20': '2019-2020',\n",
    "                                    '20-21': '2020-2021',\n",
    "                                    '21-22': '2021-2022',\n",
    "                                    '22-23': '2022-2023'})"
   ]
  },
  {
   "cell_type": "code",
   "execution_count": null,
   "id": "e5ee9f3c",
   "metadata": {},
   "outputs": [],
   "source": [
    "school_enrollment"
   ]
  },
  {
   "cell_type": "code",
   "execution_count": null,
   "id": "6eebef3f",
   "metadata": {},
   "outputs": [],
   "source": [
    "school_enrollment['YEARS_1'] = school_enrollment['YEARS'].str.split('-', expand = True)[0]"
   ]
  },
  {
   "cell_type": "code",
   "execution_count": null,
   "id": "79270866",
   "metadata": {},
   "outputs": [],
   "source": [
    "school_enrollment"
   ]
  },
  {
   "cell_type": "markdown",
   "id": "cd15b90d",
   "metadata": {},
   "source": [
    "Exporting data frame into csv file for use in R "
   ]
  },
  {
   "cell_type": "code",
   "execution_count": null,
   "id": "3538b0b3",
   "metadata": {},
   "outputs": [],
   "source": [
    "school_enrollment.to_csv('school_enrollment.csv', index = True)"
   ]
  },
  {
   "cell_type": "markdown",
   "id": "e41ed9b7",
   "metadata": {},
   "source": [
    "### Part 2"
   ]
  },
  {
   "cell_type": "code",
   "execution_count": null,
   "id": "46324164",
   "metadata": {},
   "outputs": [],
   "source": []
  },
  {
   "cell_type": "code",
   "execution_count": 9,
   "id": "be9aa32b",
   "metadata": {},
   "outputs": [
    {
     "ename": "FileNotFoundError",
     "evalue": "[Errno 2] No such file or directory: 'Enrollment/Enrollment_22_23.xls'",
     "output_type": "error",
     "traceback": [
      "\u001b[0;31m---------------------------------------------------------------------------\u001b[0m",
      "\u001b[0;31mFileNotFoundError\u001b[0m                         Traceback (most recent call last)",
      "Cell \u001b[0;32mIn [9], line 1\u001b[0m\n\u001b[0;32m----> 1\u001b[0m enrollment_22_23 \u001b[38;5;241m=\u001b[39m \u001b[43mpd\u001b[49m\u001b[38;5;241;43m.\u001b[39;49m\u001b[43mread_excel\u001b[49m\u001b[43m(\u001b[49m\u001b[38;5;124;43m'\u001b[39;49m\u001b[38;5;124;43mEnrollment/Enrollment_22_23.xls\u001b[39;49m\u001b[38;5;124;43m'\u001b[39;49m\u001b[43m)\u001b[49m\n",
      "File \u001b[0;32m/Applications/anaconda/anaconda3/envs/geospatial_ds6/lib/python3.10/site-packages/pandas/util/_decorators.py:211\u001b[0m, in \u001b[0;36mdeprecate_kwarg.<locals>._deprecate_kwarg.<locals>.wrapper\u001b[0;34m(*args, **kwargs)\u001b[0m\n\u001b[1;32m    209\u001b[0m     \u001b[38;5;28;01melse\u001b[39;00m:\n\u001b[1;32m    210\u001b[0m         kwargs[new_arg_name] \u001b[38;5;241m=\u001b[39m new_arg_value\n\u001b[0;32m--> 211\u001b[0m \u001b[38;5;28;01mreturn\u001b[39;00m \u001b[43mfunc\u001b[49m\u001b[43m(\u001b[49m\u001b[38;5;241;43m*\u001b[39;49m\u001b[43margs\u001b[49m\u001b[43m,\u001b[49m\u001b[43m \u001b[49m\u001b[38;5;241;43m*\u001b[39;49m\u001b[38;5;241;43m*\u001b[39;49m\u001b[43mkwargs\u001b[49m\u001b[43m)\u001b[49m\n",
      "File \u001b[0;32m/Applications/anaconda/anaconda3/envs/geospatial_ds6/lib/python3.10/site-packages/pandas/util/_decorators.py:331\u001b[0m, in \u001b[0;36mdeprecate_nonkeyword_arguments.<locals>.decorate.<locals>.wrapper\u001b[0;34m(*args, **kwargs)\u001b[0m\n\u001b[1;32m    325\u001b[0m \u001b[38;5;28;01mif\u001b[39;00m \u001b[38;5;28mlen\u001b[39m(args) \u001b[38;5;241m>\u001b[39m num_allow_args:\n\u001b[1;32m    326\u001b[0m     warnings\u001b[38;5;241m.\u001b[39mwarn(\n\u001b[1;32m    327\u001b[0m         msg\u001b[38;5;241m.\u001b[39mformat(arguments\u001b[38;5;241m=\u001b[39m_format_argument_list(allow_args)),\n\u001b[1;32m    328\u001b[0m         \u001b[38;5;167;01mFutureWarning\u001b[39;00m,\n\u001b[1;32m    329\u001b[0m         stacklevel\u001b[38;5;241m=\u001b[39mfind_stack_level(),\n\u001b[1;32m    330\u001b[0m     )\n\u001b[0;32m--> 331\u001b[0m \u001b[38;5;28;01mreturn\u001b[39;00m \u001b[43mfunc\u001b[49m\u001b[43m(\u001b[49m\u001b[38;5;241;43m*\u001b[39;49m\u001b[43margs\u001b[49m\u001b[43m,\u001b[49m\u001b[43m \u001b[49m\u001b[38;5;241;43m*\u001b[39;49m\u001b[38;5;241;43m*\u001b[39;49m\u001b[43mkwargs\u001b[49m\u001b[43m)\u001b[49m\n",
      "File \u001b[0;32m/Applications/anaconda/anaconda3/envs/geospatial_ds6/lib/python3.10/site-packages/pandas/io/excel/_base.py:482\u001b[0m, in \u001b[0;36mread_excel\u001b[0;34m(io, sheet_name, header, names, index_col, usecols, squeeze, dtype, engine, converters, true_values, false_values, skiprows, nrows, na_values, keep_default_na, na_filter, verbose, parse_dates, date_parser, thousands, decimal, comment, skipfooter, convert_float, mangle_dupe_cols, storage_options)\u001b[0m\n\u001b[1;32m    480\u001b[0m \u001b[38;5;28;01mif\u001b[39;00m \u001b[38;5;129;01mnot\u001b[39;00m \u001b[38;5;28misinstance\u001b[39m(io, ExcelFile):\n\u001b[1;32m    481\u001b[0m     should_close \u001b[38;5;241m=\u001b[39m \u001b[38;5;28;01mTrue\u001b[39;00m\n\u001b[0;32m--> 482\u001b[0m     io \u001b[38;5;241m=\u001b[39m \u001b[43mExcelFile\u001b[49m\u001b[43m(\u001b[49m\u001b[43mio\u001b[49m\u001b[43m,\u001b[49m\u001b[43m \u001b[49m\u001b[43mstorage_options\u001b[49m\u001b[38;5;241;43m=\u001b[39;49m\u001b[43mstorage_options\u001b[49m\u001b[43m,\u001b[49m\u001b[43m \u001b[49m\u001b[43mengine\u001b[49m\u001b[38;5;241;43m=\u001b[39;49m\u001b[43mengine\u001b[49m\u001b[43m)\u001b[49m\n\u001b[1;32m    483\u001b[0m \u001b[38;5;28;01melif\u001b[39;00m engine \u001b[38;5;129;01mand\u001b[39;00m engine \u001b[38;5;241m!=\u001b[39m io\u001b[38;5;241m.\u001b[39mengine:\n\u001b[1;32m    484\u001b[0m     \u001b[38;5;28;01mraise\u001b[39;00m \u001b[38;5;167;01mValueError\u001b[39;00m(\n\u001b[1;32m    485\u001b[0m         \u001b[38;5;124m\"\u001b[39m\u001b[38;5;124mEngine should not be specified when passing \u001b[39m\u001b[38;5;124m\"\u001b[39m\n\u001b[1;32m    486\u001b[0m         \u001b[38;5;124m\"\u001b[39m\u001b[38;5;124man ExcelFile - ExcelFile already has the engine set\u001b[39m\u001b[38;5;124m\"\u001b[39m\n\u001b[1;32m    487\u001b[0m     )\n",
      "File \u001b[0;32m/Applications/anaconda/anaconda3/envs/geospatial_ds6/lib/python3.10/site-packages/pandas/io/excel/_base.py:1652\u001b[0m, in \u001b[0;36mExcelFile.__init__\u001b[0;34m(self, path_or_buffer, engine, storage_options)\u001b[0m\n\u001b[1;32m   1650\u001b[0m     ext \u001b[38;5;241m=\u001b[39m \u001b[38;5;124m\"\u001b[39m\u001b[38;5;124mxls\u001b[39m\u001b[38;5;124m\"\u001b[39m\n\u001b[1;32m   1651\u001b[0m \u001b[38;5;28;01melse\u001b[39;00m:\n\u001b[0;32m-> 1652\u001b[0m     ext \u001b[38;5;241m=\u001b[39m \u001b[43minspect_excel_format\u001b[49m\u001b[43m(\u001b[49m\n\u001b[1;32m   1653\u001b[0m \u001b[43m        \u001b[49m\u001b[43mcontent_or_path\u001b[49m\u001b[38;5;241;43m=\u001b[39;49m\u001b[43mpath_or_buffer\u001b[49m\u001b[43m,\u001b[49m\u001b[43m \u001b[49m\u001b[43mstorage_options\u001b[49m\u001b[38;5;241;43m=\u001b[39;49m\u001b[43mstorage_options\u001b[49m\n\u001b[1;32m   1654\u001b[0m \u001b[43m    \u001b[49m\u001b[43m)\u001b[49m\n\u001b[1;32m   1655\u001b[0m     \u001b[38;5;28;01mif\u001b[39;00m ext \u001b[38;5;129;01mis\u001b[39;00m \u001b[38;5;28;01mNone\u001b[39;00m:\n\u001b[1;32m   1656\u001b[0m         \u001b[38;5;28;01mraise\u001b[39;00m \u001b[38;5;167;01mValueError\u001b[39;00m(\n\u001b[1;32m   1657\u001b[0m             \u001b[38;5;124m\"\u001b[39m\u001b[38;5;124mExcel file format cannot be determined, you must specify \u001b[39m\u001b[38;5;124m\"\u001b[39m\n\u001b[1;32m   1658\u001b[0m             \u001b[38;5;124m\"\u001b[39m\u001b[38;5;124man engine manually.\u001b[39m\u001b[38;5;124m\"\u001b[39m\n\u001b[1;32m   1659\u001b[0m         )\n",
      "File \u001b[0;32m/Applications/anaconda/anaconda3/envs/geospatial_ds6/lib/python3.10/site-packages/pandas/io/excel/_base.py:1525\u001b[0m, in \u001b[0;36minspect_excel_format\u001b[0;34m(content_or_path, storage_options)\u001b[0m\n\u001b[1;32m   1522\u001b[0m \u001b[38;5;28;01mif\u001b[39;00m \u001b[38;5;28misinstance\u001b[39m(content_or_path, \u001b[38;5;28mbytes\u001b[39m):\n\u001b[1;32m   1523\u001b[0m     content_or_path \u001b[38;5;241m=\u001b[39m BytesIO(content_or_path)\n\u001b[0;32m-> 1525\u001b[0m \u001b[38;5;28;01mwith\u001b[39;00m \u001b[43mget_handle\u001b[49m\u001b[43m(\u001b[49m\n\u001b[1;32m   1526\u001b[0m \u001b[43m    \u001b[49m\u001b[43mcontent_or_path\u001b[49m\u001b[43m,\u001b[49m\u001b[43m \u001b[49m\u001b[38;5;124;43m\"\u001b[39;49m\u001b[38;5;124;43mrb\u001b[39;49m\u001b[38;5;124;43m\"\u001b[39;49m\u001b[43m,\u001b[49m\u001b[43m \u001b[49m\u001b[43mstorage_options\u001b[49m\u001b[38;5;241;43m=\u001b[39;49m\u001b[43mstorage_options\u001b[49m\u001b[43m,\u001b[49m\u001b[43m \u001b[49m\u001b[43mis_text\u001b[49m\u001b[38;5;241;43m=\u001b[39;49m\u001b[38;5;28;43;01mFalse\u001b[39;49;00m\n\u001b[1;32m   1527\u001b[0m \u001b[43m\u001b[49m\u001b[43m)\u001b[49m \u001b[38;5;28;01mas\u001b[39;00m handle:\n\u001b[1;32m   1528\u001b[0m     stream \u001b[38;5;241m=\u001b[39m handle\u001b[38;5;241m.\u001b[39mhandle\n\u001b[1;32m   1529\u001b[0m     stream\u001b[38;5;241m.\u001b[39mseek(\u001b[38;5;241m0\u001b[39m)\n",
      "File \u001b[0;32m/Applications/anaconda/anaconda3/envs/geospatial_ds6/lib/python3.10/site-packages/pandas/io/common.py:865\u001b[0m, in \u001b[0;36mget_handle\u001b[0;34m(path_or_buf, mode, encoding, compression, memory_map, is_text, errors, storage_options)\u001b[0m\n\u001b[1;32m    856\u001b[0m         handle \u001b[38;5;241m=\u001b[39m \u001b[38;5;28mopen\u001b[39m(\n\u001b[1;32m    857\u001b[0m             handle,\n\u001b[1;32m    858\u001b[0m             ioargs\u001b[38;5;241m.\u001b[39mmode,\n\u001b[0;32m   (...)\u001b[0m\n\u001b[1;32m    861\u001b[0m             newline\u001b[38;5;241m=\u001b[39m\u001b[38;5;124m\"\u001b[39m\u001b[38;5;124m\"\u001b[39m,\n\u001b[1;32m    862\u001b[0m         )\n\u001b[1;32m    863\u001b[0m     \u001b[38;5;28;01melse\u001b[39;00m:\n\u001b[1;32m    864\u001b[0m         \u001b[38;5;66;03m# Binary mode\u001b[39;00m\n\u001b[0;32m--> 865\u001b[0m         handle \u001b[38;5;241m=\u001b[39m \u001b[38;5;28;43mopen\u001b[39;49m\u001b[43m(\u001b[49m\u001b[43mhandle\u001b[49m\u001b[43m,\u001b[49m\u001b[43m \u001b[49m\u001b[43mioargs\u001b[49m\u001b[38;5;241;43m.\u001b[39;49m\u001b[43mmode\u001b[49m\u001b[43m)\u001b[49m\n\u001b[1;32m    866\u001b[0m     handles\u001b[38;5;241m.\u001b[39mappend(handle)\n\u001b[1;32m    868\u001b[0m \u001b[38;5;66;03m# Convert BytesIO or file objects passed with an encoding\u001b[39;00m\n",
      "\u001b[0;31mFileNotFoundError\u001b[0m: [Errno 2] No such file or directory: 'Enrollment/Enrollment_22_23.xls'"
     ]
    }
   ],
   "source": [
    "enrollment_22_23 = pd.read_excel('Enrollment/Enrollment_22_23.xls')"
   ]
  },
  {
   "cell_type": "markdown",
   "id": "6388fd54",
   "metadata": {},
   "source": [
    "### Part 2\n",
    "Using the American Community Survey API, obtained for each census tract, the population (B01001_001E in the detailed tables). Hint: Tennessee's FIPS code is 47 and Davidson County's FIPS code is 37.\n"
   ]
  },
  {
   "cell_type": "code",
   "execution_count": null,
   "id": "68753426",
   "metadata": {},
   "outputs": [],
   "source": [
    "endpoint = 'https://api.census.gov/data/2021/acs/acs5?get=NAME,B01001_001E&for=tract:*&in=state:47&in=county:037&key=3a2e429d237f872aa3e2e39bc038ee65608e6090'\n",
    "Pop_response2021 = requests.get(endpoint)\n",
    "Population2021 = Pop_response2021.json()\n",
    "Population2021_df =pd.DataFrame.from_records(Population2021)\n",
    "Population2021_df"
   ]
  },
  {
   "cell_type": "code",
   "execution_count": null,
   "id": "b8dd2960",
   "metadata": {},
   "outputs": [],
   "source": [
    "Population2021_df = Population2021_df.rename(columns = Population2021_df.iloc[0])\n",
    "Population2021_df = Population2021_df.drop(0)\n",
    "Population2021_df = Population2021_df.rename(columns = { \"B01001_001E\" : \"2021\"})\n",
    "Population2021_df = Population2021_df.drop(columns = ['state', 'county'])\n",
    "Population2021_df "
   ]
  },
  {
   "cell_type": "code",
   "execution_count": null,
   "id": "a0783179",
   "metadata": {},
   "outputs": [],
   "source": [
    "endpoint = 'https://api.census.gov/data/2020/acs/acs5?get=NAME,B01001_001E&for=tract:*&in=state:47&in=county:037&key=3a2e429d237f872aa3e2e39bc038ee65608e6090'\n",
    "Pop_response2020 = requests.get(endpoint)\n",
    "Population2020 = Pop_response2020.json()\n",
    "Population2020_df =pd.DataFrame.from_records(Population2020)\n",
    "Population2020_df"
   ]
  },
  {
   "cell_type": "code",
   "execution_count": null,
   "id": "c73c489a",
   "metadata": {},
   "outputs": [],
   "source": [
    "Population2020_df = Population2020_df.rename(columns = Population2020_df.iloc[0])\n",
    "Population2020_df = Population2020_df.drop(0)\n",
    "Population2020_df = Population2020_df.rename(columns = { \"B01001_001E\" : \"2020\"})\n",
    "Population2020_df= Population2020_df.drop(columns = ['state', 'county'])\n",
    "Population2020_df "
   ]
  },
  {
   "cell_type": "code",
   "execution_count": null,
   "id": "0b0f93dd",
   "metadata": {},
   "outputs": [],
   "source": [
    "endpoint = 'https://api.census.gov/data/2019/acs/acs5?get=NAME,B01001_001E&for=tract:*&in=state:47&in=county:037&key=3a2e429d237f872aa3e2e39bc038ee65608e6090'\n",
    "Pop_response2019 = requests.get(endpoint)\n",
    "Population2019 = Pop_response2019.json()\n",
    "Population2019_df =pd.DataFrame.from_records(Population2019)\n",
    "Population2019_df"
   ]
  },
  {
   "cell_type": "code",
   "execution_count": null,
   "id": "91a4c0b3",
   "metadata": {},
   "outputs": [],
   "source": [
    "Population2019_df = Population2019_df.rename(columns = Population2019_df.iloc[0])\n",
    "Population2019_df = Population2019_df.drop(0)\n",
    "Population2019_df = Population2019_df.rename(columns = { \"B01001_001E\" : \"2019\"})\n",
    "Population2019_df = Population2019_df.drop(columns = ['state', 'county'])\n",
    "Population2019_df "
   ]
  },
  {
   "cell_type": "code",
   "execution_count": null,
   "id": "52833c40",
   "metadata": {},
   "outputs": [],
   "source": [
    "endpoint = 'https://api.census.gov/data/2018/acs/acs5?get=NAME,B01001_001E&for=tract:*&in=state:47&in=county:037&key=3a2e429d237f872aa3e2e39bc038ee65608e6090'\n",
    "Pop_response2018 = requests.get(endpoint)\n",
    "Population2018 = Pop_response2018.json()\n",
    "Population2018_df = pd.DataFrame.from_records(Population2018)\n",
    "Population2018_df"
   ]
  },
  {
   "cell_type": "code",
   "execution_count": null,
   "id": "2702d6b8",
   "metadata": {},
   "outputs": [],
   "source": [
    "Population2018_df = Population2018_df.rename(columns = Population2018_df.iloc[0])\n",
    "Population2018_df = Population2018_df.drop(0)\n",
    "Population2018_df = Population2018_df.rename(columns = { \"B01001_001E\" : \"2018\"})\n",
    "Population2018_df = Population2018_df.drop(columns = ['state', 'county'])\n",
    "Population2018_df "
   ]
  },
  {
   "cell_type": "code",
   "execution_count": null,
   "id": "6a2a4392",
   "metadata": {},
   "outputs": [],
   "source": [
    "endpoint = 'https://api.census.gov/data/2017/acs/acs5?get=NAME,B01001_001E&for=tract:*&in=state:47&in=county:037&key=3a2e429d237f872aa3e2e39bc038ee65608e6090'\n",
    "Pop_response2017 = requests.get(endpoint)\n",
    "Population2017 = Pop_response2017.json()\n",
    "Population2017_df = pd.DataFrame.from_records(Population2017)\n",
    "Population2017_df"
   ]
  },
  {
   "cell_type": "code",
   "execution_count": null,
   "id": "eec9f584",
   "metadata": {},
   "outputs": [],
   "source": [
    "Population2017_df = Population2017_df.rename(columns = Population2017_df.iloc[0])\n",
    "Population2017_df = Population2017_df.drop(0)\n",
    "Population2017_df = Population2017_df.rename(columns = { \"B01001_001E\" : \"2017\"})\n",
    "Population2017_df = Population2017_df.drop(columns = ['state', 'county'])\n",
    "Population2017_df "
   ]
  },
  {
   "cell_type": "code",
   "execution_count": null,
   "id": "74025554",
   "metadata": {},
   "outputs": [],
   "source": [
    "endpoint = 'https://api.census.gov/data/2016/acs/acs5?get=NAME,B01001_001E&for=tract:*&in=state:47&in=county:037&key=3a2e429d237f872aa3e2e39bc038ee65608e6090'\n",
    "Pop_response2016 = requests.get(endpoint)\n",
    "Population2016 = Pop_response2016.json()\n",
    "Population2016_df = pd.DataFrame.from_records(Population2016)\n",
    "Population2016_df"
   ]
  },
  {
   "cell_type": "code",
   "execution_count": null,
   "id": "df493de4",
   "metadata": {},
   "outputs": [],
   "source": [
    "Population2016_df = Population2016_df.rename(columns = Population2016_df.iloc[0])\n",
    "Population2016_df = Population2016_df.drop(0)\n",
    "Population2016_df = Population2016_df.rename(columns = { \"B01001_001E\" : \"2016\"})\n",
    "Population2016_df = Population2016_df.drop(columns = ['state', 'county'])\n",
    "Population2016_df "
   ]
  },
  {
   "cell_type": "code",
   "execution_count": null,
   "id": "9a1cc2a3",
   "metadata": {},
   "outputs": [],
   "source": [
    "endpoint = 'https://api.census.gov/data/2015/acs/acs5?get=NAME,B01001_001E&for=tract:*&in=state:47&in=county:037&key=3a2e429d237f872aa3e2e39bc038ee65608e6090'\n",
    "Pop_response2015 = requests.get(endpoint)\n",
    "Population2015 = Pop_response2015.json()\n",
    "Population2015_df = pd.DataFrame.from_records(Population2015)\n",
    "Population2015_df"
   ]
  },
  {
   "cell_type": "code",
   "execution_count": null,
   "id": "6ca15e2b",
   "metadata": {},
   "outputs": [],
   "source": [
    "Population2015_df = Population2015_df.rename(columns = Population2015_df.iloc[0])\n",
    "Population2015_df = Population2015_df.drop(0)\n",
    "Population2015_df = Population2015_df.rename(columns = { \"B01001_001E\" : \"2015\"})\n",
    "Population2015_df = Population2015_df.drop(columns = ['state', 'county'])\n",
    "Population2015_df "
   ]
  },
  {
   "cell_type": "code",
   "execution_count": null,
   "id": "07c1e342",
   "metadata": {},
   "outputs": [],
   "source": [
    "endpoint = 'https://api.census.gov/data/2014/acs/acs5?get=NAME,B01001_001E&for=tract:*&in=state:47&in=county:037&key=3a2e429d237f872aa3e2e39bc038ee65608e6090'\n",
    "Pop_response2014 = requests.get(endpoint)\n",
    "Population2014 = Pop_response2014.json()\n",
    "Population2014_df = pd.DataFrame.from_records(Population2014)\n",
    "Population2014_df"
   ]
  },
  {
   "cell_type": "code",
   "execution_count": null,
   "id": "f560def9",
   "metadata": {},
   "outputs": [],
   "source": [
    "Population2014_df = Population2014_df.rename(columns = Population2014_df.iloc[0])\n",
    "Population2014_df = Population2014_df.drop(0)\n",
    "Population2014_df = Population2014_df.rename(columns = { \"B01001_001E\" : \"2014\"})\n",
    "Population2014_df = Population2014_df.drop(columns = ['state', 'county'])\n",
    "Population2014_df "
   ]
  },
  {
   "cell_type": "code",
   "execution_count": null,
   "id": "71fa2ee4",
   "metadata": {},
   "outputs": [],
   "source": [
    "endpoint = 'https://api.census.gov/data/2013/acs/acs5?get=NAME,B01001_001E&for=tract:*&in=state:47&in=county:037&key=3a2e429d237f872aa3e2e39bc038ee65608e6090'\n",
    "Pop_response2013 = requests.get(endpoint)\n",
    "Population2013 = Pop_response2013.json()\n",
    "Population2013_df = pd.DataFrame.from_records(Population2013)\n",
    "Population2013_df"
   ]
  },
  {
   "cell_type": "code",
   "execution_count": null,
   "id": "f51509b3",
   "metadata": {},
   "outputs": [],
   "source": [
    "Population2013_df = Population2013_df.rename(columns = Population2013_df.iloc[0])\n",
    "Population2013_df = Population2013_df.drop(0)\n",
    "Population2013_df = Population2013_df.rename(columns = { \"B01001_001E\" : \"2013\"})\n",
    "Population2013_df = Population2013_df.drop(columns = ['state', 'county'])\n",
    "Population2013_df "
   ]
  },
  {
   "cell_type": "code",
   "execution_count": null,
   "id": "d4dc2e02",
   "metadata": {},
   "outputs": [],
   "source": [
    "endpoint = 'https://api.census.gov/data/2012/acs/acs5?get=NAME,B01001_001E&for=tract:*&in=state:47&in=county:037&key=3a2e429d237f872aa3e2e39bc038ee65608e6090'\n",
    "Pop_response2012 = requests.get(endpoint)\n",
    "Population2012 = Pop_response2012.json()\n",
    "Population2012_df = pd.DataFrame.from_records(Population2012)\n",
    "Population2012_df"
   ]
  },
  {
   "cell_type": "code",
   "execution_count": null,
   "id": "38167e06",
   "metadata": {},
   "outputs": [],
   "source": [
    "Population2012_df = Population2012_df.rename(columns = Population2012_df.iloc[0])\n",
    "Population2012_df = Population2012_df.drop(0)\n",
    "Population2012_df = Population2012_df.rename(columns = { \"B01001_001E\" : \"2012\"})\n",
    "Population2012_df = Population2012_df.drop(columns = ['state', 'county'])\n",
    "Population2012_df "
   ]
  },
  {
   "cell_type": "code",
   "execution_count": null,
   "id": "d1e338bc",
   "metadata": {},
   "outputs": [],
   "source": [
    "endpoint = 'https://api.census.gov/data/2011/acs/acs5?get=NAME,B01001_001E&for=tract:*&in=state:47&in=county:037&key=3a2e429d237f872aa3e2e39bc038ee65608e6090'\n",
    "Pop_response2011 = requests.get(endpoint)\n",
    "Population2011 = Pop_response2011.json()\n",
    "Population2011_df = pd.DataFrame.from_records(Population2011)\n",
    "Population2011_df"
   ]
  },
  {
   "cell_type": "code",
   "execution_count": null,
   "id": "671d6729",
   "metadata": {},
   "outputs": [],
   "source": [
    "Population2011_df = Population2011_df.rename(columns = Population2011_df.iloc[0])\n",
    "Population2011_df = Population2011_df.drop(0)\n",
    "Population2011_df = Population2011_df.rename(columns = { \"B01001_001E\" : \"2011\"})\n",
    "Population2011_df = Population2011_df.drop(columns = ['state', 'county'])\n",
    "Population2011_df "
   ]
  },
  {
   "cell_type": "code",
   "execution_count": null,
   "id": "493d4b9b",
   "metadata": {},
   "outputs": [],
   "source": [
    "endpoint= 'https://api.census.gov/data/2010/acs/acs5?get=NAME,B01001_001E&for=tract:*&in=state:47&in=county:037&key=3a2e429d237f872aa3e2e39bc038ee65608e6090'\n",
    "Pop_response2010 = requests.get(endpoint)\n",
    "Population2010 = Pop_response2010.json()\n",
    "Population2010_df = pd.DataFrame.from_records(Population2010)\n",
    "Population2010_df"
   ]
  },
  {
   "cell_type": "code",
   "execution_count": null,
   "id": "a488f6af",
   "metadata": {},
   "outputs": [],
   "source": [
    "Population2010_df = Population2010_df.rename(columns = Population2010_df.iloc[0])\n",
    "Population2010_df = Population2010_df.drop(0)\n",
    "Population2010_df = Population2010_df.rename(columns = { \"B01001_001E\" : \"2010\"})\n",
    "Population2010_df = Population2010_df.drop(columns = ['state', 'county'])\n",
    "Population2010_df "
   ]
  },
  {
   "cell_type": "code",
   "execution_count": null,
   "id": "3c46d36a",
   "metadata": {},
   "outputs": [],
   "source": [
    "endpoint= 'https://api.census.gov/data/2009/acs/acs5?get=NAME,B01001_001E&for=tract:*&in=state:47&in=county:037&key=3a2e429d237f872aa3e2e39bc038ee65608e6090'\n",
    "Pop_response2009 = requests.get(endpoint)\n",
    "Population2009= Pop_response2009.json()\n",
    "Population2009_df=pd.DataFrame.from_records(Population2009)\n",
    "Population2009_df"
   ]
  },
  {
   "cell_type": "code",
   "execution_count": null,
   "id": "bd0ab371",
   "metadata": {},
   "outputs": [],
   "source": [
    "Population2009_df = Population2009_df.rename(columns = Population2009_df.iloc[0])\n",
    "Population2009_df = Population2009_df.drop(0)\n",
    "Population2009_df = Population2009_df.rename(columns = { \"B01001_001E\" : \"2009\"})\n",
    "Population2009_df = Population2009_df.drop(columns = ['state', 'county'])\n",
    "Population2009_df "
   ]
  },
  {
   "cell_type": "code",
   "execution_count": null,
   "id": "b54c6a54",
   "metadata": {},
   "outputs": [],
   "source": [
    "Population = pd.merge(left = Population2021_df, \n",
    "         right = Population2020_df, \n",
    "         left_on = ['NAME', 'tract'], \n",
    "         right_on = ['NAME', 'tract'])\n",
    "Population"
   ]
  },
  {
   "cell_type": "code",
   "execution_count": null,
   "id": "9d7dcb48",
   "metadata": {},
   "outputs": [],
   "source": [
    "Population = pd.merge(left = Population, \n",
    "         right = Population2019_df, \n",
    "         left_on = ['NAME', 'tract'], \n",
    "         right_on = ['NAME', 'tract'])\n",
    "Population"
   ]
  },
  {
   "cell_type": "code",
   "execution_count": null,
   "id": "41f17c9a",
   "metadata": {},
   "outputs": [],
   "source": [
    "Population = pd.merge(left = Population, \n",
    "         right = Population2018_df, \n",
    "         left_on = ['NAME', 'tract'], \n",
    "         right_on = ['NAME', 'tract'])\n",
    "Population"
   ]
  },
  {
   "cell_type": "code",
   "execution_count": null,
   "id": "140f248e",
   "metadata": {},
   "outputs": [],
   "source": [
    "Population = pd.merge(left = Population, \n",
    "         right = Population2017_df, \n",
    "         left_on = ['NAME', 'tract'], \n",
    "         right_on = ['NAME', 'tract'])\n",
    "Population"
   ]
  },
  {
   "cell_type": "code",
   "execution_count": null,
   "id": "6bd565ac",
   "metadata": {},
   "outputs": [],
   "source": [
    "Population = pd.merge(left = Population, \n",
    "         right = Population2016_df, \n",
    "         left_on = ['NAME', 'tract'], \n",
    "         right_on = ['NAME', 'tract'])\n",
    "Population"
   ]
  },
  {
   "cell_type": "code",
   "execution_count": null,
   "id": "c3f88e98",
   "metadata": {},
   "outputs": [],
   "source": [
    "Population = pd.merge(left = Population, \n",
    "         right = Population2015_df, \n",
    "         left_on = ['NAME', 'tract'], \n",
    "         right_on = ['NAME', 'tract'])\n",
    "Population"
   ]
  },
  {
   "cell_type": "code",
   "execution_count": null,
   "id": "183b313f",
   "metadata": {},
   "outputs": [],
   "source": [
    "Population = pd.merge(left = Population, \n",
    "         right = Population2014_df, \n",
    "         left_on = ['NAME', 'tract'], \n",
    "         right_on = ['NAME', 'tract'])\n",
    "Population"
   ]
  },
  {
   "cell_type": "code",
   "execution_count": null,
   "id": "53d3f8dd",
   "metadata": {},
   "outputs": [],
   "source": [
    "Population = pd.merge(left = Population, \n",
    "         right = Population2013_df, \n",
    "         left_on = ['NAME', 'tract'], \n",
    "         right_on = ['NAME', 'tract'])\n",
    "Population"
   ]
  },
  {
   "cell_type": "code",
   "execution_count": null,
   "id": "abca2a01",
   "metadata": {},
   "outputs": [],
   "source": [
    "Population = pd.merge(left = Population, \n",
    "         right = Population2012_df, \n",
    "         left_on = ['NAME', 'tract'], \n",
    "         right_on = ['NAME', 'tract'])\n",
    "Population"
   ]
  },
  {
   "cell_type": "code",
   "execution_count": null,
   "id": "35bd7d2e",
   "metadata": {},
   "outputs": [],
   "source": [
    "Population = pd.merge(left = Population, \n",
    "         right = Population2011_df, \n",
    "         left_on = ['NAME', 'tract'], \n",
    "         right_on = ['NAME', 'tract'])\n",
    "Population"
   ]
  },
  {
   "cell_type": "code",
   "execution_count": null,
   "id": "c7f43b9e",
   "metadata": {},
   "outputs": [],
   "source": [
    "Population = pd.merge(left = Population, \n",
    "         right = Population2010_df, \n",
    "         left_on = ['NAME', 'tract'], \n",
    "         right_on = ['NAME', 'tract'])\n",
    "Population"
   ]
  },
  {
   "cell_type": "code",
   "execution_count": null,
   "id": "49a48e57",
   "metadata": {},
   "outputs": [],
   "source": [
    "Population.to_csv('population_census_tract.csv', index = True)"
   ]
  },
  {
   "cell_type": "code",
   "execution_count": null,
   "id": "b4e64a37",
   "metadata": {},
   "outputs": [],
   "source": [
    "import re"
   ]
  },
  {
   "cell_type": "code",
   "execution_count": null,
   "id": "aaf9e21c",
   "metadata": {},
   "outputs": [],
   "source": []
  }
 ],
 "metadata": {
  "kernelspec": {
   "display_name": "Python 3 (ipykernel)",
   "language": "python",
   "name": "python3"
  },
  "language_info": {
   "codemirror_mode": {
    "name": "ipython",
    "version": 3
   },
   "file_extension": ".py",
   "mimetype": "text/x-python",
   "name": "python",
   "nbconvert_exporter": "python",
   "pygments_lexer": "ipython3",
   "version": "3.10.6"
  }
 },
 "nbformat": 4,
 "nbformat_minor": 5
}
