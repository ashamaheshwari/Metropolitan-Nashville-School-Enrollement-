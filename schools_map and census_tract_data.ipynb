{
 "cells": [
  {
   "cell_type": "code",
   "execution_count": null,
   "id": "22fa84b9",
   "metadata": {},
   "outputs": [],
   "source": [
    "import requests\n",
    "import pandas as pd\n",
    "import geopandas as gpd\n",
    "import json"
   ]
  },
  {
   "cell_type": "markdown",
   "id": "7b26acab",
   "metadata": {},
   "source": [
    "### Part 1\n",
    "Scraping School map data from MNPS site (https://mnps.maps.arcgis.com/home/item.html?id=a25c1ef058a247cfa2636a396f3aaedd#data). Table has information for geographic location (latitude and longitude) for each MNPS school. This information will be used for map generation. "
   ]
  },
  {
   "cell_type": "code",
   "execution_count": null,
   "id": "4c811d66",
   "metadata": {},
   "outputs": [],
   "source": [
    "URL = 'https://services.arcgis.com/GBzOxI4K7WHYqcYy/arcgis/rest/services/Schools_Map/FeatureServer/0/query?f=json&where=1%3D1&returnGeometry=false&spatialRel=esriSpatialRelIntersects&outFields=*&orderByFields=OBJECTID%20ASC&resultOffset=0&resultRecordCount=1000&cacheHint=true&quantizationParameters=%7B%22mode%22%3A%22edit%22%7D'"
   ]
  },
  {
   "cell_type": "code",
   "execution_count": null,
   "id": "9043e1d8",
   "metadata": {},
   "outputs": [],
   "source": [
    "response = requests.get(URL)"
   ]
  },
  {
   "cell_type": "code",
   "execution_count": null,
   "id": "f4f17236",
   "metadata": {},
   "outputs": [],
   "source": [
    "School_map_data = pd.DataFrame([x['attributes'] for x in response.json()['features']])"
   ]
  },
  {
   "cell_type": "code",
   "execution_count": null,
   "id": "b589b9e6",
   "metadata": {},
   "outputs": [],
   "source": [
    "School_map_data"
   ]
  },
  {
   "cell_type": "code",
   "execution_count": null,
   "id": "391bba21",
   "metadata": {},
   "outputs": [],
   "source": [
    "School_map_data.info()"
   ]
  },
  {
   "cell_type": "code",
   "execution_count": null,
   "id": "953258a2",
   "metadata": {},
   "outputs": [],
   "source": [
    "School_map_data = School_map_data.drop(columns = {'OBJECTID', 'SHORT_NAME', 'GR_TIER', 'NOTES','SCHBRD_DIST','SCHBRD_MBR', 'OPTIONSCH_CURR', 'OPTIONSCH_NEXT', 'OPTID_CURR', 'OPTID_NEXT', 'TN_HOUSE', 'TN_SENATE'})\n",
    "School_map_data = School_map_data.rename(columns = {'CLUS_NAME':'CLUSTER_NAME','LONG_':'LONGITUDE', 'LAT_':'LATITUDE'})\n",
    "School_map_data.info()"
   ]
  },
  {
   "cell_type": "code",
   "execution_count": null,
   "id": "375ed591",
   "metadata": {},
   "outputs": [],
   "source": [
    "School_map_data[\"SCHOOL_NAME\"].unique()"
   ]
  },
  {
   "cell_type": "code",
   "execution_count": null,
   "id": "22921c79",
   "metadata": {},
   "outputs": [],
   "source": [
    "School_map_data['ADDRESS'] = School_map_data.SHORT_ADDR.str.cat(School_map_data.CITY, sep=', ')\n",
    "School_map_data['ADDRESS'] = School_map_data['ADDRESS'].astype(str) + ', TN-'\n",
    "School_map_data['ADDRESS'] = School_map_data.ADDRESS.str.cat(School_map_data.ZIP, sep='')\n",
    "School_map_data"
   ]
  },
  {
   "cell_type": "code",
   "execution_count": null,
   "id": "c35bc195",
   "metadata": {},
   "outputs": [],
   "source": [
    "enrollment = pd.read_csv('Data/enrollment.csv')\n",
    "enrollment"
   ]
  },
  {
   "cell_type": "code",
   "execution_count": null,
   "id": "e7d5a9f2",
   "metadata": {},
   "outputs": [],
   "source": [
    "enrollment = enrollment.rename(columns = {'school': 'SCHOOL_NAME', 'sl':'SCHOOL_TYPE', 'enrollment' : 'TOTAL_ENROLLMENT', 'years' : 'YEARS'})\n",
    "enrollment"
   ]
  },
  {
   "cell_type": "code",
   "execution_count": null,
   "id": "f5957a04",
   "metadata": {},
   "outputs": [],
   "source": [
    "enrollment['SCHOOL_NAME'] = enrollment['SCHOOL_NAME'].replace({'Antioch High School': 'Antioch High' , 'Whites Creek High School': 'Whites Creek High', Bordeaux Enhanced Option School})\n",
    "enrollment\n",
    "'Brick Church Middle School'\n",
    "Brookmeade Elementary School\n",
    "Cameron Middle School'\n",
    "'Cora Howe School'\n",
    "'Dalewood Middle School\n",
    "'Early College High School'\n",
    "'East Nashville School', 'Ewing Park Middle School'\n",
    "'Glencliff High School',\n",
    "'H.G. Hill Middle School'\n",
    " 'Martha Vaught Middle School', 'Martin Luther King Jr School','May Werthan Shayne Elementary School',\n",
    " 'Ross Elementary School'  \n",
    "Stratford STEM Magnet School'\n",
    "'W.A. Bass Middle School'\n",
    " 'Cane Ridge High School"
   ]
  },
  {
   "cell_type": "code",
   "execution_count": null,
   "id": "be9b5b01",
   "metadata": {},
   "outputs": [],
   "source": [
    "enrollment[\"SCHOOL_NAME\"].unique()"
   ]
  },
  {
   "cell_type": "code",
   "execution_count": null,
   "id": "44927799",
   "metadata": {},
   "outputs": [],
   "source": [
    "enrollment[\"SCHOOL_NAME\"] = enrollment[\"SCHOOL_NAME\"].replace('School', '')"
   ]
  },
  {
   "cell_type": "code",
   "execution_count": null,
   "id": "e44e537b",
   "metadata": {},
   "outputs": [],
   "source": [
    "enrollment[\"SCHOOL_NAME\"].unique()"
   ]
  },
  {
   "cell_type": "code",
   "execution_count": null,
   "id": "5c1495f9",
   "metadata": {},
   "outputs": [],
   "source": [
    "enrollment['SCHOOL_NAME'] = enrollment['SCHOOL_NAME'].astype(str) + ' School'\n",
    "enrollment"
   ]
  },
  {
   "cell_type": "code",
   "execution_count": null,
   "id": "21d51985",
   "metadata": {},
   "outputs": [],
   "source": []
  },
  {
   "cell_type": "code",
   "execution_count": null,
   "id": "8beff166",
   "metadata": {},
   "outputs": [],
   "source": [
    "if enrollment[\"SCHOOL_NAME\"](-1) == 'School':\n",
    "        enrollment[\"SCHOOL_NAME\"] == enrollment[\"SCHOOL_NAME\"]\n",
    "else: \n",
    "        "
   ]
  },
  {
   "cell_type": "code",
   "execution_count": null,
   "id": "3382c285",
   "metadata": {},
   "outputs": [],
   "source": [
    "school_enrollment = pd.merge(left = School_map_data, \n",
    "         right = enrollment, \n",
    "         on = 'SCHOOL_NAME',\n",
    "        how = 'inner_join'            \n",
    "        )"
   ]
  },
  {
   "cell_type": "code",
   "execution_count": null,
   "id": "9db5673a",
   "metadata": {},
   "outputs": [],
   "source": [
    "school_enrollment"
   ]
  },
  {
   "cell_type": "markdown",
   "id": "cd15b90d",
   "metadata": {},
   "source": [
    "Exporting data frame into csv file for use in R "
   ]
  },
  {
   "cell_type": "code",
   "execution_count": null,
   "id": "3538b0b3",
   "metadata": {},
   "outputs": [],
   "source": [
    "School_map_data.to_csv('School_map_data.csv', index = True)"
   ]
  },
  {
   "cell_type": "markdown",
   "id": "6388fd54",
   "metadata": {},
   "source": [
    "### Part 2\n",
    "Using the American Community Survey API, obtained for each census tract, the population (B01001_001E in the detailed tables). Hint: Tennessee's FIPS code is 47 and Davidson County's FIPS code is 37.\n"
   ]
  },
  {
   "cell_type": "code",
   "execution_count": null,
   "id": "68753426",
   "metadata": {},
   "outputs": [],
   "source": [
    "endpoint = 'https://api.census.gov/data/2021/acs/acs5?get=NAME,B01001_001E&for=tract:*&in=state:47&in=county:037&key=3a2e429d237f872aa3e2e39bc038ee65608e6090'\n",
    "Pop_response2021 = requests.get(endpoint)\n",
    "Population2021 = Pop_response2021.json()\n",
    "Population2021_df =pd.DataFrame.from_records(Population2021)\n",
    "Population2021_df"
   ]
  },
  {
   "cell_type": "code",
   "execution_count": null,
   "id": "b8dd2960",
   "metadata": {},
   "outputs": [],
   "source": [
    "Population2021_df = Population2021_df.rename(columns = Population2021_df.iloc[0])\n",
    "Population2021_df = Population2021_df.drop(0)\n",
    "Population2021_df = Population2021_df.rename(columns = { \"B01001_001E\" : \"2021\"})\n",
    "Population2021_df = Population2021_df.drop(columns = ['state', 'county'])\n",
    "Population2021_df "
   ]
  },
  {
   "cell_type": "code",
   "execution_count": null,
   "id": "a0783179",
   "metadata": {},
   "outputs": [],
   "source": [
    "endpoint = 'https://api.census.gov/data/2020/acs/acs5?get=NAME,B01001_001E&for=tract:*&in=state:47&in=county:037&key=3a2e429d237f872aa3e2e39bc038ee65608e6090'\n",
    "Pop_response2020 = requests.get(endpoint)\n",
    "Population2020 = Pop_response2020.json()\n",
    "Population2020_df =pd.DataFrame.from_records(Population2020)\n",
    "Population2020_df"
   ]
  },
  {
   "cell_type": "code",
   "execution_count": null,
   "id": "c73c489a",
   "metadata": {},
   "outputs": [],
   "source": [
    "Population2020_df = Population2020_df.rename(columns = Population2020_df.iloc[0])\n",
    "Population2020_df = Population2020_df.drop(0)\n",
    "Population2020_df = Population2020_df.rename(columns = { \"B01001_001E\" : \"2020\"})\n",
    "Population2020_df= Population2020_df.drop(columns = ['state', 'county'])\n",
    "Population2020_df "
   ]
  },
  {
   "cell_type": "code",
   "execution_count": null,
   "id": "0b0f93dd",
   "metadata": {},
   "outputs": [],
   "source": [
    "endpoint = 'https://api.census.gov/data/2019/acs/acs5?get=NAME,B01001_001E&for=tract:*&in=state:47&in=county:037&key=3a2e429d237f872aa3e2e39bc038ee65608e6090'\n",
    "Pop_response2019 = requests.get(endpoint)\n",
    "Population2019 = Pop_response2019.json()\n",
    "Population2019_df =pd.DataFrame.from_records(Population2019)\n",
    "Population2019_df"
   ]
  },
  {
   "cell_type": "code",
   "execution_count": null,
   "id": "91a4c0b3",
   "metadata": {},
   "outputs": [],
   "source": [
    "Population2019_df = Population2019_df.rename(columns = Population2019_df.iloc[0])\n",
    "Population2019_df = Population2019_df.drop(0)\n",
    "Population2019_df = Population2019_df.rename(columns = { \"B01001_001E\" : \"2019\"})\n",
    "Population2019_df = Population2019_df.drop(columns = ['state', 'county'])\n",
    "Population2019_df "
   ]
  },
  {
   "cell_type": "code",
   "execution_count": null,
   "id": "52833c40",
   "metadata": {},
   "outputs": [],
   "source": [
    "endpoint = 'https://api.census.gov/data/2018/acs/acs5?get=NAME,B01001_001E&for=tract:*&in=state:47&in=county:037&key=3a2e429d237f872aa3e2e39bc038ee65608e6090'\n",
    "Pop_response2018 = requests.get(endpoint)\n",
    "Population2018 = Pop_response2018.json()\n",
    "Population2018_df = pd.DataFrame.from_records(Population2018)\n",
    "Population2018_df"
   ]
  },
  {
   "cell_type": "code",
   "execution_count": null,
   "id": "2702d6b8",
   "metadata": {},
   "outputs": [],
   "source": [
    "Population2018_df = Population2018_df.rename(columns = Population2018_df.iloc[0])\n",
    "Population2018_df = Population2018_df.drop(0)\n",
    "Population2018_df = Population2018_df.rename(columns = { \"B01001_001E\" : \"2018\"})\n",
    "Population2018_df = Population2018_df.drop(columns = ['state', 'county'])\n",
    "Population2018_df "
   ]
  },
  {
   "cell_type": "code",
   "execution_count": null,
   "id": "6a2a4392",
   "metadata": {},
   "outputs": [],
   "source": [
    "endpoint = 'https://api.census.gov/data/2017/acs/acs5?get=NAME,B01001_001E&for=tract:*&in=state:47&in=county:037&key=3a2e429d237f872aa3e2e39bc038ee65608e6090'\n",
    "Pop_response2017 = requests.get(endpoint)\n",
    "Population2017 = Pop_response2017.json()\n",
    "Population2017_df = pd.DataFrame.from_records(Population2017)\n",
    "Population2017_df"
   ]
  },
  {
   "cell_type": "code",
   "execution_count": null,
   "id": "eec9f584",
   "metadata": {},
   "outputs": [],
   "source": [
    "Population2017_df = Population2017_df.rename(columns = Population2017_df.iloc[0])\n",
    "Population2017_df = Population2017_df.drop(0)\n",
    "Population2017_df = Population2017_df.rename(columns = { \"B01001_001E\" : \"2017\"})\n",
    "Population2017_df = Population2017_df.drop(columns = ['state', 'county'])\n",
    "Population2017_df "
   ]
  },
  {
   "cell_type": "code",
   "execution_count": null,
   "id": "74025554",
   "metadata": {},
   "outputs": [],
   "source": [
    "endpoint = 'https://api.census.gov/data/2016/acs/acs5?get=NAME,B01001_001E&for=tract:*&in=state:47&in=county:037&key=3a2e429d237f872aa3e2e39bc038ee65608e6090'\n",
    "Pop_response2016 = requests.get(endpoint)\n",
    "Population2016 = Pop_response2016.json()\n",
    "Population2016_df = pd.DataFrame.from_records(Population2016)\n",
    "Population2016_df"
   ]
  },
  {
   "cell_type": "code",
   "execution_count": null,
   "id": "df493de4",
   "metadata": {},
   "outputs": [],
   "source": [
    "Population2016_df = Population2016_df.rename(columns = Population2016_df.iloc[0])\n",
    "Population2016_df = Population2016_df.drop(0)\n",
    "Population2016_df = Population2016_df.rename(columns = { \"B01001_001E\" : \"2016\"})\n",
    "Population2016_df = Population2016_df.drop(columns = ['state', 'county'])\n",
    "Population2016_df "
   ]
  },
  {
   "cell_type": "code",
   "execution_count": null,
   "id": "9a1cc2a3",
   "metadata": {},
   "outputs": [],
   "source": [
    "endpoint = 'https://api.census.gov/data/2015/acs/acs5?get=NAME,B01001_001E&for=tract:*&in=state:47&in=county:037&key=3a2e429d237f872aa3e2e39bc038ee65608e6090'\n",
    "Pop_response2015 = requests.get(endpoint)\n",
    "Population2015 = Pop_response2015.json()\n",
    "Population2015_df = pd.DataFrame.from_records(Population2015)\n",
    "Population2015_df"
   ]
  },
  {
   "cell_type": "code",
   "execution_count": null,
   "id": "6ca15e2b",
   "metadata": {},
   "outputs": [],
   "source": [
    "Population2015_df = Population2015_df.rename(columns = Population2015_df.iloc[0])\n",
    "Population2015_df = Population2015_df.drop(0)\n",
    "Population2015_df = Population2015_df.rename(columns = { \"B01001_001E\" : \"2015\"})\n",
    "Population2015_df = Population2015_df.drop(columns = ['state', 'county'])\n",
    "Population2015_df "
   ]
  },
  {
   "cell_type": "code",
   "execution_count": null,
   "id": "07c1e342",
   "metadata": {},
   "outputs": [],
   "source": [
    "endpoint = 'https://api.census.gov/data/2014/acs/acs5?get=NAME,B01001_001E&for=tract:*&in=state:47&in=county:037&key=3a2e429d237f872aa3e2e39bc038ee65608e6090'\n",
    "Pop_response2014 = requests.get(endpoint)\n",
    "Population2014 = Pop_response2014.json()\n",
    "Population2014_df = pd.DataFrame.from_records(Population2014)\n",
    "Population2014_df"
   ]
  },
  {
   "cell_type": "code",
   "execution_count": null,
   "id": "f560def9",
   "metadata": {},
   "outputs": [],
   "source": [
    "Population2014_df = Population2014_df.rename(columns = Population2014_df.iloc[0])\n",
    "Population2014_df = Population2014_df.drop(0)\n",
    "Population2014_df = Population2014_df.rename(columns = { \"B01001_001E\" : \"2014\"})\n",
    "Population2014_df = Population2014_df.drop(columns = ['state', 'county'])\n",
    "Population2014_df "
   ]
  },
  {
   "cell_type": "code",
   "execution_count": null,
   "id": "71fa2ee4",
   "metadata": {},
   "outputs": [],
   "source": [
    "endpoint = 'https://api.census.gov/data/2013/acs/acs5?get=NAME,B01001_001E&for=tract:*&in=state:47&in=county:037&key=3a2e429d237f872aa3e2e39bc038ee65608e6090'\n",
    "Pop_response2013 = requests.get(endpoint)\n",
    "Population2013 = Pop_response2013.json()\n",
    "Population2013_df = pd.DataFrame.from_records(Population2013)\n",
    "Population2013_df"
   ]
  },
  {
   "cell_type": "code",
   "execution_count": null,
   "id": "f51509b3",
   "metadata": {},
   "outputs": [],
   "source": [
    "Population2013_df = Population2013_df.rename(columns = Population2013_df.iloc[0])\n",
    "Population2013_df = Population2013_df.drop(0)\n",
    "Population2013_df = Population2013_df.rename(columns = { \"B01001_001E\" : \"2013\"})\n",
    "Population2013_df = Population2013_df.drop(columns = ['state', 'county'])\n",
    "Population2013_df "
   ]
  },
  {
   "cell_type": "code",
   "execution_count": null,
   "id": "d4dc2e02",
   "metadata": {},
   "outputs": [],
   "source": [
    "endpoint = 'https://api.census.gov/data/2012/acs/acs5?get=NAME,B01001_001E&for=tract:*&in=state:47&in=county:037&key=3a2e429d237f872aa3e2e39bc038ee65608e6090'\n",
    "Pop_response2012 = requests.get(endpoint)\n",
    "Population2012 = Pop_response2012.json()\n",
    "Population2012_df = pd.DataFrame.from_records(Population2012)\n",
    "Population2012_df"
   ]
  },
  {
   "cell_type": "code",
   "execution_count": null,
   "id": "38167e06",
   "metadata": {},
   "outputs": [],
   "source": [
    "Population2012_df = Population2012_df.rename(columns = Population2012_df.iloc[0])\n",
    "Population2012_df = Population2012_df.drop(0)\n",
    "Population2012_df = Population2012_df.rename(columns = { \"B01001_001E\" : \"2012\"})\n",
    "Population2012_df = Population2012_df.drop(columns = ['state', 'county'])\n",
    "Population2012_df "
   ]
  },
  {
   "cell_type": "code",
   "execution_count": null,
   "id": "d1e338bc",
   "metadata": {},
   "outputs": [],
   "source": [
    "endpoint = 'https://api.census.gov/data/2011/acs/acs5?get=NAME,B01001_001E&for=tract:*&in=state:47&in=county:037&key=3a2e429d237f872aa3e2e39bc038ee65608e6090'\n",
    "Pop_response2011 = requests.get(endpoint)\n",
    "Population2011 = Pop_response2011.json()\n",
    "Population2011_df = pd.DataFrame.from_records(Population2011)\n",
    "Population2011_df"
   ]
  },
  {
   "cell_type": "code",
   "execution_count": null,
   "id": "671d6729",
   "metadata": {},
   "outputs": [],
   "source": [
    "Population2011_df = Population2011_df.rename(columns = Population2011_df.iloc[0])\n",
    "Population2011_df = Population2011_df.drop(0)\n",
    "Population2011_df = Population2011_df.rename(columns = { \"B01001_001E\" : \"2011\"})\n",
    "Population2011_df = Population2011_df.drop(columns = ['state', 'county'])\n",
    "Population2011_df "
   ]
  },
  {
   "cell_type": "code",
   "execution_count": null,
   "id": "493d4b9b",
   "metadata": {},
   "outputs": [],
   "source": [
    "endpoint= 'https://api.census.gov/data/2010/acs/acs5?get=NAME,B01001_001E&for=tract:*&in=state:47&in=county:037&key=3a2e429d237f872aa3e2e39bc038ee65608e6090'\n",
    "Pop_response2010 = requests.get(endpoint)\n",
    "Population2010 = Pop_response2010.json()\n",
    "Population2010_df = pd.DataFrame.from_records(Population2010)\n",
    "Population2010_df"
   ]
  },
  {
   "cell_type": "code",
   "execution_count": null,
   "id": "a488f6af",
   "metadata": {},
   "outputs": [],
   "source": [
    "Population2010_df = Population2010_df.rename(columns = Population2010_df.iloc[0])\n",
    "Population2010_df = Population2010_df.drop(0)\n",
    "Population2010_df = Population2010_df.rename(columns = { \"B01001_001E\" : \"2010\"})\n",
    "Population2010_df = Population2010_df.drop(columns = ['state', 'county'])\n",
    "Population2010_df "
   ]
  },
  {
   "cell_type": "code",
   "execution_count": null,
   "id": "3c46d36a",
   "metadata": {},
   "outputs": [],
   "source": [
    "endpoint= 'https://api.census.gov/data/2009/acs/acs5?get=NAME,B01001_001E&for=tract:*&in=state:47&in=county:037&key=3a2e429d237f872aa3e2e39bc038ee65608e6090'\n",
    "Pop_response2009 = requests.get(endpoint)\n",
    "Population2009= Pop_response2009.json()\n",
    "Population2009_df=pd.DataFrame.from_records(Population2009)\n",
    "Population2009_df"
   ]
  },
  {
   "cell_type": "code",
   "execution_count": null,
   "id": "bd0ab371",
   "metadata": {},
   "outputs": [],
   "source": [
    "Population2009_df = Population2009_df.rename(columns = Population2009_df.iloc[0])\n",
    "Population2009_df = Population2009_df.drop(0)\n",
    "Population2009_df = Population2009_df.rename(columns = { \"B01001_001E\" : \"2009\"})\n",
    "Population2009_df = Population2009_df.drop(columns = ['state', 'county'])\n",
    "Population2009_df "
   ]
  },
  {
   "cell_type": "code",
   "execution_count": null,
   "id": "b54c6a54",
   "metadata": {},
   "outputs": [],
   "source": [
    "Population = pd.merge(left = Population2021_df, \n",
    "         right = Population2020_df, \n",
    "         left_on = ['NAME', 'tract'], \n",
    "         right_on = ['NAME', 'tract'])\n",
    "Population"
   ]
  },
  {
   "cell_type": "code",
   "execution_count": null,
   "id": "9d7dcb48",
   "metadata": {},
   "outputs": [],
   "source": [
    "Population = pd.merge(left = Population, \n",
    "         right = Population2019_df, \n",
    "         left_on = ['NAME', 'tract'], \n",
    "         right_on = ['NAME', 'tract'])\n",
    "Population"
   ]
  },
  {
   "cell_type": "code",
   "execution_count": null,
   "id": "41f17c9a",
   "metadata": {},
   "outputs": [],
   "source": [
    "Population = pd.merge(left = Population, \n",
    "         right = Population2018_df, \n",
    "         left_on = ['NAME', 'tract'], \n",
    "         right_on = ['NAME', 'tract'])\n",
    "Population"
   ]
  },
  {
   "cell_type": "code",
   "execution_count": null,
   "id": "140f248e",
   "metadata": {},
   "outputs": [],
   "source": [
    "Population = pd.merge(left = Population, \n",
    "         right = Population2017_df, \n",
    "         left_on = ['NAME', 'tract'], \n",
    "         right_on = ['NAME', 'tract'])\n",
    "Population"
   ]
  },
  {
   "cell_type": "code",
   "execution_count": null,
   "id": "6bd565ac",
   "metadata": {},
   "outputs": [],
   "source": [
    "Population = pd.merge(left = Population, \n",
    "         right = Population2016_df, \n",
    "         left_on = ['NAME', 'tract'], \n",
    "         right_on = ['NAME', 'tract'])\n",
    "Population"
   ]
  },
  {
   "cell_type": "code",
   "execution_count": null,
   "id": "c3f88e98",
   "metadata": {},
   "outputs": [],
   "source": [
    "Population = pd.merge(left = Population, \n",
    "         right = Population2015_df, \n",
    "         left_on = ['NAME', 'tract'], \n",
    "         right_on = ['NAME', 'tract'])\n",
    "Population"
   ]
  },
  {
   "cell_type": "code",
   "execution_count": null,
   "id": "183b313f",
   "metadata": {},
   "outputs": [],
   "source": [
    "Population = pd.merge(left = Population, \n",
    "         right = Population2014_df, \n",
    "         left_on = ['NAME', 'tract'], \n",
    "         right_on = ['NAME', 'tract'])\n",
    "Population"
   ]
  },
  {
   "cell_type": "code",
   "execution_count": null,
   "id": "53d3f8dd",
   "metadata": {},
   "outputs": [],
   "source": [
    "Population = pd.merge(left = Population, \n",
    "         right = Population2013_df, \n",
    "         left_on = ['NAME', 'tract'], \n",
    "         right_on = ['NAME', 'tract'])\n",
    "Population"
   ]
  },
  {
   "cell_type": "code",
   "execution_count": null,
   "id": "abca2a01",
   "metadata": {},
   "outputs": [],
   "source": [
    "Population = pd.merge(left = Population, \n",
    "         right = Population2012_df, \n",
    "         left_on = ['NAME', 'tract'], \n",
    "         right_on = ['NAME', 'tract'])\n",
    "Population"
   ]
  },
  {
   "cell_type": "code",
   "execution_count": null,
   "id": "35bd7d2e",
   "metadata": {},
   "outputs": [],
   "source": [
    "Population = pd.merge(left = Population, \n",
    "         right = Population2011_df, \n",
    "         left_on = ['NAME', 'tract'], \n",
    "         right_on = ['NAME', 'tract'])\n",
    "Population"
   ]
  },
  {
   "cell_type": "code",
   "execution_count": null,
   "id": "c7f43b9e",
   "metadata": {},
   "outputs": [],
   "source": [
    "Population = pd.merge(left = Population, \n",
    "         right = Population2010_df, \n",
    "         left_on = ['NAME', 'tract'], \n",
    "         right_on = ['NAME', 'tract'])\n",
    "Population"
   ]
  },
  {
   "cell_type": "code",
   "execution_count": null,
   "id": "49a48e57",
   "metadata": {},
   "outputs": [],
   "source": [
    "Population.to_csv('population_census_tract.csv', index = True)"
   ]
  },
  {
   "cell_type": "code",
   "execution_count": null,
   "id": "b4e64a37",
   "metadata": {},
   "outputs": [],
   "source": [
    "import re"
   ]
  },
  {
   "cell_type": "code",
   "execution_count": null,
   "id": "aaf9e21c",
   "metadata": {},
   "outputs": [],
   "source": []
  }
 ],
 "metadata": {
  "kernelspec": {
   "display_name": "Python 3 (ipykernel)",
   "language": "python",
   "name": "python3"
  },
  "language_info": {
   "codemirror_mode": {
    "name": "ipython",
    "version": 3
   },
   "file_extension": ".py",
   "mimetype": "text/x-python",
   "name": "python",
   "nbconvert_exporter": "python",
   "pygments_lexer": "ipython3",
   "version": "3.10.6"
  }
 },
 "nbformat": 4,
 "nbformat_minor": 5
}
